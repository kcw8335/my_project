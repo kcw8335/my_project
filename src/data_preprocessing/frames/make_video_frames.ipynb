{
 "cells": [
  {
   "cell_type": "code",
   "execution_count": 1,
   "metadata": {},
   "outputs": [],
   "source": [
    "import os\n",
    "import torchvision.io as io\n",
    "import numpy as np\n",
    "from tqdm import tqdm\n",
    "from IPython.display import clear_output"
   ]
  },
  {
   "cell_type": "code",
   "execution_count": 2,
   "metadata": {},
   "outputs": [
    {
     "data": {
      "text/plain": [
       "['training80_01',\n",
       " 'training80_02',\n",
       " 'training80_03',\n",
       " 'training80_04',\n",
       " 'training80_05',\n",
       " 'training80_06',\n",
       " 'training80_07',\n",
       " 'training80_08',\n",
       " 'training80_09',\n",
       " 'training80_10',\n",
       " 'training80_11',\n",
       " 'training80_12']"
      ]
     },
     "execution_count": 2,
     "metadata": {},
     "output_type": "execute_result"
    }
   ],
   "source": [
    "root_path = \"{workspace}/my_project/src/data_origin/video\"\n",
    "folders = os.listdir(root_path)\n",
    "folders"
   ]
  },
  {
   "cell_type": "code",
   "execution_count": null,
   "metadata": {},
   "outputs": [],
   "source": [
    "for folder in folders:\n",
    "    video_filenames = os.listdir(os.path.join(root_path, folder))\n",
    "    for video_filename in video_filenames:\n",
    "        video, _, info = io.read_video(os.path.join(root_path, folder, video_filename), pts_unit=\"sec\")\n",
    "        os.makedirs(\"./frames/\" + video_filename, exist_ok=True)\n",
    "        num_frames = video.shape[0]\n",
    "        print(\"save\", video_filename, \"frames!\")\n",
    "        for i in tqdm(range(num_frames), leave=False):\n",
    "            frame = video[i].permute(2, 0, 1).numpy()\n",
    "            save_filename = f\"{i:06d}.jpg.npy\"\n",
    "            save_filepath = os.path.join(\"./frames/\", video_filename, save_filename)\n",
    "            np.save(save_filepath, frame)\n",
    "        clear_output(wait=True)"
   ]
  }
 ],
 "metadata": {
  "kernelspec": {
   "display_name": "fairness",
   "language": "python",
   "name": "python3"
  },
  "language_info": {
   "codemirror_mode": {
    "name": "ipython",
    "version": 3
   },
   "file_extension": ".py",
   "mimetype": "text/x-python",
   "name": "python",
   "nbconvert_exporter": "python",
   "pygments_lexer": "ipython3",
   "version": "3.10.15"
  }
 },
 "nbformat": 4,
 "nbformat_minor": 2
}
