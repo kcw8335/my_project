{
 "cells": [
  {
   "cell_type": "code",
   "execution_count": 1,
   "metadata": {},
   "outputs": [],
   "source": [
    "import subprocess\n",
    "import numpy as np\n",
    "import wave\n",
    "import scipy.signal\n",
    "import scipy.ndimage\n",
    "import os\n",
    "import shutil\n",
    "from tqdm import tqdm\n",
    "import pandas as pd\n",
    "from tqdm import tqdm"
   ]
  },
  {
   "cell_type": "code",
   "execution_count": 2,
   "metadata": {},
   "outputs": [
    {
     "data": {
      "text/plain": [
       "['training80_01',\n",
       " 'training80_02',\n",
       " 'training80_03',\n",
       " 'training80_04',\n",
       " 'training80_05',\n",
       " 'training80_06',\n",
       " 'training80_07',\n",
       " 'training80_08',\n",
       " 'training80_09',\n",
       " 'training80_10',\n",
       " 'training80_11',\n",
       " 'training80_12']"
      ]
     },
     "execution_count": 2,
     "metadata": {},
     "output_type": "execute_result"
    }
   ],
   "source": [
    "root_path = \"{workspace}/my_project/src/data_origin/video\"\n",
    "folders = os.listdir(root_path)\n",
    "folders"
   ]
  },
  {
   "cell_type": "markdown",
   "metadata": {},
   "source": [
    "### mp4 to wav"
   ]
  },
  {
   "cell_type": "code",
   "execution_count": 3,
   "metadata": {},
   "outputs": [
    {
     "name": "stdout",
     "output_type": "stream",
     "text": [
      "training80_01\n"
     ]
    },
    {
     "name": "stderr",
     "output_type": "stream",
     "text": [
      "100%|██████████| 80/80 [00:04<00:00, 18.48it/s]\n"
     ]
    },
    {
     "name": "stdout",
     "output_type": "stream",
     "text": [
      "training80_02\n"
     ]
    },
    {
     "name": "stderr",
     "output_type": "stream",
     "text": [
      "100%|██████████| 80/80 [00:04<00:00, 19.44it/s]\n"
     ]
    },
    {
     "name": "stdout",
     "output_type": "stream",
     "text": [
      "training80_03\n"
     ]
    },
    {
     "name": "stderr",
     "output_type": "stream",
     "text": [
      "100%|██████████| 80/80 [00:04<00:00, 19.45it/s]\n"
     ]
    },
    {
     "name": "stdout",
     "output_type": "stream",
     "text": [
      "training80_04\n"
     ]
    },
    {
     "name": "stderr",
     "output_type": "stream",
     "text": [
      "100%|██████████| 80/80 [00:04<00:00, 19.31it/s]\n"
     ]
    },
    {
     "name": "stdout",
     "output_type": "stream",
     "text": [
      "training80_05\n"
     ]
    },
    {
     "name": "stderr",
     "output_type": "stream",
     "text": [
      "100%|██████████| 80/80 [00:04<00:00, 19.49it/s]\n"
     ]
    },
    {
     "name": "stdout",
     "output_type": "stream",
     "text": [
      "training80_06\n"
     ]
    },
    {
     "name": "stderr",
     "output_type": "stream",
     "text": [
      "100%|██████████| 80/80 [00:04<00:00, 19.32it/s]\n"
     ]
    },
    {
     "name": "stdout",
     "output_type": "stream",
     "text": [
      "training80_07\n"
     ]
    },
    {
     "name": "stderr",
     "output_type": "stream",
     "text": [
      "100%|██████████| 80/80 [00:04<00:00, 19.46it/s]\n"
     ]
    },
    {
     "name": "stdout",
     "output_type": "stream",
     "text": [
      "training80_08\n"
     ]
    },
    {
     "name": "stderr",
     "output_type": "stream",
     "text": [
      "100%|██████████| 80/80 [00:04<00:00, 19.31it/s]\n"
     ]
    },
    {
     "name": "stdout",
     "output_type": "stream",
     "text": [
      "training80_09\n"
     ]
    },
    {
     "name": "stderr",
     "output_type": "stream",
     "text": [
      "100%|██████████| 80/80 [00:04<00:00, 19.34it/s]\n"
     ]
    },
    {
     "name": "stdout",
     "output_type": "stream",
     "text": [
      "training80_10\n"
     ]
    },
    {
     "name": "stderr",
     "output_type": "stream",
     "text": [
      "100%|██████████| 80/80 [00:04<00:00, 19.44it/s]\n"
     ]
    },
    {
     "name": "stdout",
     "output_type": "stream",
     "text": [
      "training80_11\n"
     ]
    },
    {
     "name": "stderr",
     "output_type": "stream",
     "text": [
      "100%|██████████| 80/80 [00:04<00:00, 19.49it/s]\n"
     ]
    },
    {
     "name": "stdout",
     "output_type": "stream",
     "text": [
      "training80_12\n"
     ]
    },
    {
     "name": "stderr",
     "output_type": "stream",
     "text": [
      "100%|██████████| 80/80 [00:04<00:00, 19.58it/s]\n"
     ]
    }
   ],
   "source": [
    "folder_path = \"./wav_ffmpeg\"\n",
    "if os.path.exists(folder_path):\n",
    "    shutil.rmtree(folder_path)\n",
    "os.makedirs(folder_path, exist_ok=True)\n",
    "\n",
    "for folder in folders:\n",
    "    video_filenames = os.listdir(os.path.join(root_path, folder))\n",
    "    print(folder)\n",
    "    for video_filename in tqdm(video_filenames):\n",
    "        mp4_file = os.path.join(root_path, folder, video_filename).replace(\"\\\\\", \"/\")\n",
    "        wav_file = os.path.join(\"./wav_ffmpeg\", video_filename.replace(\".mp4\", \".wav\"))\n",
    "        command = [\n",
    "            \"ffmpeg\", \"-i\", mp4_file,  # 입력 파일\n",
    "            \"-ac\", \"1\",  # 오디오 채널 (1 = Mono)\n",
    "            \"-ar\", \"16000\",  # 샘플링 레이트 16kHz\n",
    "            \"-q:a\", \"0\",  # 최고 품질\n",
    "            \"-map\", \"a\",  # 오디오만 추출\n",
    "            wav_file\n",
    "        ]\n",
    "        subprocess.run(command, check=True)"
   ]
  },
  {
   "cell_type": "markdown",
   "metadata": {},
   "source": [
    "### wav to audio feature"
   ]
  },
  {
   "cell_type": "code",
   "execution_count": 4,
   "metadata": {},
   "outputs": [
    {
     "name": "stderr",
     "output_type": "stream",
     "text": [
      "100%|██████████| 960/960 [00:11<00:00, 81.34it/s]\n"
     ]
    }
   ],
   "source": [
    "wav_files = os.listdir(\"./wav_ffmpeg\")\n",
    "folder_path = \"./pyaudiofeatures_30\"\n",
    "if os.path.exists(folder_path):\n",
    "    shutil.rmtree(folder_path)\n",
    "os.makedirs(folder_path, exist_ok=True)\n",
    "\n",
    "for wav_file in tqdm(wav_files):\n",
    "    # Open the WAV file\n",
    "    wf = wave.open(\"./wav_ffmpeg/\" + wav_file, 'rb')\n",
    "    rate = wf.getframerate()  # Sampling rate (Hz)\n",
    "    channels = wf.getnchannels()  # Number of channels\n",
    "    total_frames = wf.getnframes()  # Total number of frames\n",
    "\n",
    "    # print(f\"Sample Rate: {rate}, Channels: {channels}, Frames: {total_frames}\")\n",
    "\n",
    "    # Read audio data\n",
    "    audio_data = wf.readframes(total_frames)\n",
    "    wf.close()\n",
    "\n",
    "    # Convert audio data to a NumPy array\n",
    "    audio_array = np.frombuffer(audio_data, dtype=np.int16)\n",
    "    \n",
    "\n",
    "    # Convert stereo to mono if necessary (average the channels)\n",
    "    if channels > 1:\n",
    "        audio_array = audio_array.reshape(-1, channels).mean(axis=1)\n",
    "\n",
    "    # Normalize the audio signal\n",
    "    audio_array = audio_array / np.max(np.abs(audio_array))\n",
    "\n",
    "    # Apply Short-Time Fourier Transform (STFT)\n",
    "    f, t, Zxx = scipy.signal.stft(audio_array, fs=rate, nperseg=256)\n",
    "    feature = np.abs(Zxx)\n",
    "\n",
    "    # Resize using interpolation instead of simple resizing\n",
    "    feature_shape=(30, 64)\n",
    "    zoom_factors = (feature_shape[0] / feature.shape[0], feature_shape[1] / feature.shape[1])\n",
    "    feature_resized = scipy.ndimage.zoom(feature, zoom_factors, order=1)  # Bilinear interpolation\n",
    "\n",
    "    # Save the extracted features as a CSV file\n",
    "    save_path = os.path.join(folder_path, wav_file[:-4] + \".mp4\" + \".wav_st.csv\")\n",
    "    df = pd.DataFrame(feature_resized)  # Convert NumPy array to DataFrame\n",
    "    df.to_csv(save_path, index=False, header=False)  # Save to CSV\n",
    "\n"
   ]
  }
 ],
 "metadata": {
  "kernelspec": {
   "display_name": "fairness",
   "language": "python",
   "name": "python3"
  },
  "language_info": {
   "codemirror_mode": {
    "name": "ipython",
    "version": 3
   },
   "file_extension": ".py",
   "mimetype": "text/x-python",
   "name": "python",
   "nbconvert_exporter": "python",
   "pygments_lexer": "ipython3",
   "version": "3.10.15"
  }
 },
 "nbformat": 4,
 "nbformat_minor": 2
}
