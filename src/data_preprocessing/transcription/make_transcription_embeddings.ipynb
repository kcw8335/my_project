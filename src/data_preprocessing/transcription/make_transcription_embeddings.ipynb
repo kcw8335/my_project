{
 "cells": [
  {
   "cell_type": "code",
   "execution_count": 1,
   "metadata": {},
   "outputs": [],
   "source": [
    "import os\n",
    "import pickle\n",
    "from tqdm import tqdm\n",
    "from transformers import BertTokenizer, BertModel\n",
    "import torch\n",
    "import shutil\n",
    "import numpy as np\n",
    "import warnings\n",
    "\n",
    "# UserWarning 무시\n",
    "warnings.simplefilter(\"ignore\", UserWarning)"
   ]
  },
  {
   "cell_type": "code",
   "execution_count": 2,
   "metadata": {},
   "outputs": [],
   "source": [
    "root_path = \"{workspace}/my_project/src/data_origin/transcription\"\n",
    "filenames = [\"transcription_training.pkl\", \"transcription_validation.pkl\", \"transcription_test.pkl\"]"
   ]
  },
  {
   "cell_type": "code",
   "execution_count": 3,
   "metadata": {},
   "outputs": [
    {
     "name": "stdout",
     "output_type": "stream",
     "text": [
      "transcription_training.pkl 6000\n",
      "transcription_validation.pkl 2000\n",
      "transcription_test.pkl 2000\n",
      "10000\n"
     ]
    }
   ],
   "source": [
    "data = {}\n",
    "for filename in filenames:\n",
    "    with open(os.path.join(root_path, filename), 'rb') as file:\n",
    "        data_tmp = pickle.load(file)\n",
    "        print(filename, len(data_tmp))\n",
    "    data.update(data_tmp)\n",
    "print(len(data))"
   ]
  },
  {
   "cell_type": "markdown",
   "metadata": {},
   "source": [
    "### tokenizer and model preparation"
   ]
  },
  {
   "cell_type": "code",
   "execution_count": 4,
   "metadata": {},
   "outputs": [],
   "source": [
    "# tokenizer model preparation\n",
    "tokenizer = BertTokenizer.from_pretrained(\"bert-base-uncased\")\n",
    "model = BertModel.from_pretrained(\"bert-base-uncased\")\n",
    "# 한 개의 단어를 768차원으로 표현\n",
    "# 최대 sequence length 512"
   ]
  },
  {
   "cell_type": "markdown",
   "metadata": {},
   "source": [
    "### make bert embeddings"
   ]
  },
  {
   "cell_type": "code",
   "execution_count": 5,
   "metadata": {},
   "outputs": [],
   "source": [
    "device = torch.device(\"cuda\" if torch.cuda.is_available() else \"cpu\")\n",
    "model.to(device)\n",
    "model.eval()\n",
    "\n",
    "folder_path = \"./bert_embeddings/\"\n",
    "if os.path.exists(folder_path):\n",
    "    shutil.rmtree(folder_path)\n",
    "os.makedirs(folder_path, exist_ok=True)"
   ]
  },
  {
   "cell_type": "code",
   "execution_count": 6,
   "metadata": {},
   "outputs": [
    {
     "name": "stderr",
     "output_type": "stream",
     "text": [
      "100%|██████████| 10000/10000 [02:06<00:00, 78.98it/s]\n"
     ]
    }
   ],
   "source": [
    "with torch.no_grad():\n",
    "    for key, value in tqdm(data.items()):\n",
    "        inputs = tokenizer(value, return_tensors=\"pt\")\n",
    "        inputs = {key: value.to(device) for key, value in inputs.items()}\n",
    "        outputs = model(**inputs)\n",
    "        pooler_output = outputs.pooler_output\n",
    "        pooler_output_numpy = pooler_output.cpu().numpy()\n",
    "        \n",
    "        save_filename = os.path.join(folder_path, key + \".npy\")\n",
    "        np.save(save_filename, pooler_output_numpy)"
   ]
  }
 ],
 "metadata": {
  "kernelspec": {
   "display_name": "fairness",
   "language": "python",
   "name": "python3"
  },
  "language_info": {
   "codemirror_mode": {
    "name": "ipython",
    "version": 3
   },
   "file_extension": ".py",
   "mimetype": "text/x-python",
   "name": "python",
   "nbconvert_exporter": "python",
   "pygments_lexer": "ipython3",
   "version": "3.10.15"
  }
 },
 "nbformat": 4,
 "nbformat_minor": 2
}
