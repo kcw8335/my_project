{
 "cells": [
  {
   "cell_type": "code",
   "execution_count": 1,
   "metadata": {},
   "outputs": [],
   "source": [
    "import os\n",
    "import pandas as pd\n",
    "from tqdm import tqdm\n",
    "import warnings\n",
    "\n",
    "# FutureWarning 무시\n",
    "warnings.simplefilter(\"ignore\", FutureWarning)"
   ]
  },
  {
   "cell_type": "code",
   "execution_count": 2,
   "metadata": {},
   "outputs": [],
   "source": [
    "def make_annotation_csv_file(\n",
    "        root_path: str, \n",
    "        annotation_filename:str, \n",
    "        annotation_filename_sa:str, \n",
    "        csv_filename: str,\n",
    "        save: bool = False\n",
    "    ) -> None:\n",
    "\n",
    "    columns = [\n",
    "        'video_name', \n",
    "        'youtube_id', \n",
    "        'ethnicity',\n",
    "        'ethnicity_label',\n",
    "        'gender',\n",
    "        'gender_label',\n",
    "        'openness',\n",
    "        'conscientiousness', \n",
    "        'extraversion',\n",
    "        'agreeableness',\n",
    "        'neuroticism',\n",
    "        'interview', \n",
    "    ]\n",
    "    df = pd.DataFrame(columns=columns)\n",
    "    \n",
    "    annotation_dict = pd.read_pickle(os.path.join(root_path, annotation_filename))\n",
    "    gender_ethnicity_df = pd.read_csv(os.path.join(root_path, annotation_filename_sa), sep=\";\")\n",
    "\n",
    "    for key in tqdm(annotation_dict[\"interview\"].keys()):\n",
    "        VideoName = key\n",
    "        YouTubeID = gender_ethnicity_df[gender_ethnicity_df[\"VideoName\"] == key][\"YouTubeID\"].item()\n",
    "        # ocean score\n",
    "        openness = annotation_dict[\"openness\"][key]\n",
    "        conscientiousness = annotation_dict[\"conscientiousness\"][key]\n",
    "        extraversion = annotation_dict[\"extraversion\"][key]\n",
    "        agreeableness = annotation_dict[\"agreeableness\"][key]\n",
    "        neuroticism = annotation_dict[\"neuroticism\"][key]\n",
    "\n",
    "        # interview score\n",
    "        interview = annotation_dict[\"interview\"][key]\n",
    "\n",
    "        # 0 Asian 1 Caucasian 2 African-American\n",
    "        ethnicity = gender_ethnicity_df[gender_ethnicity_df[\"VideoName\"] == key][\"Ethnicity\"].item() - 1\n",
    "        if ethnicity == 0:\n",
    "            ethnicity_label = \"Asian\"\n",
    "        elif ethnicity == 1:\n",
    "            ethnicity_label = \"Caucasian\"\n",
    "        elif ethnicity == 2:\n",
    "            ethnicity_label = \"African-American\"\n",
    "        else:\n",
    "            raise ValueError\n",
    "\n",
    "        # 0 Male 1 Female\n",
    "        gender = gender_ethnicity_df[gender_ethnicity_df[\"VideoName\"] == key][\"Gender\"].item() - 1\n",
    "        if gender == 0:\n",
    "            gender_label = \"Male\"\n",
    "        elif gender == 1:\n",
    "            gender_label = \"Female\"\n",
    "        else:\n",
    "            raise ValueError\n",
    "\n",
    "        new_item = {\n",
    "            'video_name': VideoName,\n",
    "            'youtube_id': YouTubeID,\n",
    "            'ethnicity': ethnicity,\n",
    "            'ethnicity_label': ethnicity_label,\n",
    "            'gender': gender,\n",
    "            'gender_label': gender_label,\n",
    "            'openness': openness, \n",
    "            'conscientiousness': conscientiousness, \n",
    "            'extraversion': extraversion,\n",
    "            'agreeableness': agreeableness,\n",
    "            'neuroticism': neuroticism,\n",
    "            'interview': interview,\n",
    "        }\n",
    "        df = pd.concat([df, pd.DataFrame([new_item])], ignore_index=True)\n",
    "        \n",
    "    df = df.sort_values(\"video_name\").reset_index(drop=True)\n",
    "    if save:\n",
    "        df.to_csv(csv_filename, index=False)"
   ]
  },
  {
   "cell_type": "code",
   "execution_count": 3,
   "metadata": {},
   "outputs": [],
   "source": [
    "root_path = \"{workspace}/my_project/src/data_origin/annotation\""
   ]
  },
  {
   "cell_type": "code",
   "execution_count": 4,
   "metadata": {},
   "outputs": [
    {
     "name": "stderr",
     "output_type": "stream",
     "text": [
      "100%|██████████| 6000/6000 [00:16<00:00, 368.68it/s]\n"
     ]
    }
   ],
   "source": [
    "# make training annotation file\n",
    "annotation_filename = \"annotation_training.pkl\"\n",
    "annotation_filename_sa = \"eth_gender_annotations_dev.csv\"\n",
    "csv_filename = \"annotation_training.csv\"\n",
    "save = True\n",
    "make_annotation_csv_file(root_path, annotation_filename, annotation_filename_sa, csv_filename, save)"
   ]
  },
  {
   "cell_type": "code",
   "execution_count": 5,
   "metadata": {},
   "outputs": [
    {
     "name": "stderr",
     "output_type": "stream",
     "text": [
      "100%|██████████| 2000/2000 [00:05<00:00, 378.25it/s]\n"
     ]
    }
   ],
   "source": [
    "# make validation annotation file\n",
    "annotation_filename = \"annotation_validation.pkl\"\n",
    "annotation_filename_sa = \"eth_gender_annotations_dev.csv\"\n",
    "csv_filename = \"annotation_validation.csv\"\n",
    "save = True\n",
    "make_annotation_csv_file(root_path, annotation_filename, annotation_filename_sa, csv_filename, save)"
   ]
  },
  {
   "cell_type": "code",
   "execution_count": 6,
   "metadata": {},
   "outputs": [
    {
     "name": "stderr",
     "output_type": "stream",
     "text": [
      "100%|██████████| 2000/2000 [00:03<00:00, 588.59it/s]\n"
     ]
    }
   ],
   "source": [
    "# make test annotation file\n",
    "annotation_filename = \"annotation_test.pkl\"\n",
    "annotation_filename_sa = \"eth_gender_annotations_test.csv\"\n",
    "csv_filename = \"annotation_test.csv\"\n",
    "save = True\n",
    "make_annotation_csv_file(root_path, annotation_filename, annotation_filename_sa, csv_filename, save)"
   ]
  }
 ],
 "metadata": {
  "kernelspec": {
   "display_name": "fairness",
   "language": "python",
   "name": "python3"
  },
  "language_info": {
   "codemirror_mode": {
    "name": "ipython",
    "version": 3
   },
   "file_extension": ".py",
   "mimetype": "text/x-python",
   "name": "python",
   "nbconvert_exporter": "python",
   "pygments_lexer": "ipython3",
   "version": "3.10.15"
  }
 },
 "nbformat": 4,
 "nbformat_minor": 2
}
